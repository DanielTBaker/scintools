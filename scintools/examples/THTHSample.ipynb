{
 "cells": [
  {
   "cell_type": "markdown",
   "metadata": {},
   "source": [
    "# Import/Definitions"
   ]
  },
  {
   "cell_type": "code",
   "execution_count": null,
   "metadata": {
    "ExecuteTime": {
     "end_time": "2020-02-27T15:56:03.371242Z",
     "start_time": "2020-02-27T15:56:03.350691Z"
    },
    "collapsed": true
   },
   "outputs": [],
   "source": [
    "%matplotlib inline\n",
    "import matplotlib.pyplot as plt\n",
    "import numpy as np\n",
    "import scintools.ththmod as THTH\n",
    "from matplotlib.colors import LogNorm\n",
    "import astropy.units as u\n",
    "from scipy.sparse.linalg import eigsh\n",
    "from scipy.optimize import curve_fit"
   ]
  },
  {
   "cell_type": "code",
   "execution_count": null,
   "metadata": {
    "ExecuteTime": {
     "end_time": "2020-02-27T15:56:04.046947Z",
     "start_time": "2020-02-27T15:56:04.027447Z"
    },
    "collapsed": true
   },
   "outputs": [],
   "source": [
    "##Function for making extent tuple for plotting\n",
    "def ext_find(x,y):\n",
    "    dx=np.diff(x).mean()\n",
    "    dy=np.diff(y).mean()\n",
    "    ext=[(x[0]-dx/2).value,(x[-1]+dx/2).value,(y[0]-dy/2).value,(y[-1]+dy/2).value]\n",
    "    return(ext)\n",
    "\n",
    "##Curvature evolution with freuquency\n",
    "def eta_func(f0,A):\n",
    "    return(A/(f0**2))"
   ]
  },
  {
   "cell_type": "markdown",
   "metadata": {},
   "source": [
    "# Load and Visualize Data"
   ]
  },
  {
   "cell_type": "code",
   "execution_count": null,
   "metadata": {
    "ExecuteTime": {
     "end_time": "2020-02-27T15:56:06.767914Z",
     "start_time": "2020-02-27T15:56:05.733348Z"
    }
   },
   "outputs": [],
   "source": [
    "##Load Sample Data\n",
    "arch=np.load('Sample_Data.npz')\n",
    "time=arch['t_s']*u.s\n",
    "freq=arch['f_MHz']*u.MHz\n",
    "##Define Wavefield\n",
    "espec=arch['Espec']\n",
    "##Create noisy dynamic spectrum\n",
    "dspec=np.abs(espec)**2+np.random.normal(0,20,espec.shape)\n",
    "\n",
    "fd=np.fft.fftshift(np.fft.fftfreq(time.shape[0],time[1]-time[0]).to(u.mHz))*u.mHz\n",
    "tau=np.fft.fftshift(np.fft.fftfreq(freq[:64].shape[0],\n",
    "                                   freq[1]-freq[0]).to(u.us))*u.us\n",
    "\n",
    "plt.figure(figsize=(8,10))\n",
    "plt.subplot(211)\n",
    "plt.imshow(dspec[:64],origin='lower',aspect='auto',extent=ext_find(time.to(u.min),freq[:64]))\n",
    "SS=np.fft.fftshift(np.abs(np.fft.fft2(dspec[:64,:]))**2)\n",
    "plt.xlabel('Time (min)')\n",
    "plt.ylabel('Freq (MHz)')\n",
    "plt.title('Dynamic Spectrum')\n",
    "plt.colorbar()\n",
    "plt.subplot(212)\n",
    "plt.imshow(SS,norm=LogNorm(),origin='lower',aspect='auto',extent=ext_find(fd,tau),vmax=1e9,vmin=1e7)\n",
    "plt.ylim((0,3))\n",
    "plt.colorbar()\n",
    "plt.xlabel(r'$f_D$ (mHz)')\n",
    "plt.ylabel(r'$\\tau$ (us)')\n",
    "plt.title('Secondary Spectrum')\n"
   ]
  },
  {
   "cell_type": "code",
   "execution_count": null,
   "metadata": {
    "ExecuteTime": {
     "end_time": "2020-02-27T15:56:10.698577Z",
     "start_time": "2020-02-27T15:56:08.661005Z"
    }
   },
   "outputs": [],
   "source": [
    "##Sample thth plots for a small portion of data\n",
    "dspec2=dspec[:64]\n",
    "freq2=freq[:64]\n",
    "\n",
    "##Pad before forming secondary spectrum\n",
    "npad=3\n",
    "dspec_pad=np.pad(dspec2,((0,npad*dspec2.shape[0]),(0,npad*dspec2.shape[1])),mode='constant',constant_values=dspec2.mean())\n",
    "\n",
    "##Form SS and coordinate arrays\n",
    "SS=np.fft.fftshift(np.fft.fft2(dspec_pad))\n",
    "fd=np.fft.fftshift(np.fft.fftfreq((npad+1)*time.shape[0],time[1]-time[0]).to(u.mHz))*u.mHz\n",
    "tau=np.fft.fftshift(np.fft.fftfreq((npad+1)*freq2.shape[0],freq[1]-freq[0]).to(u.us))*u.us\n",
    "plt.figure(figsize=(4,12))\n",
    "etas=np.array([12.5,44,100])*u.us/u.mHz**2\n",
    "\n",
    "##Bin Edges for thth plot \n",
    "##(should be symmetric about 0 and contain an even number of points)\n",
    "edges=np.linspace(-.4,.4,512)\n",
    "\n",
    "for i in range(3):\n",
    "    ##Create thth plot\n",
    "    ##The redmap fuction automatically crops the array to stay within the SS\n",
    "    thth_red,edges_red=THTH.thth_redmap(SS, tau, fd, etas[i], edges)\n",
    "    plt.subplot(3,1,i+1)\n",
    "    plt.imshow(np.abs(thth_red),\n",
    "               norm=LogNorm(),\n",
    "               extent=[edges_red[0],edges_red[-1],edges_red[0],edges_red[-1]],\n",
    "               origin='lower',vmin=1e4,vmax=1e5)\n",
    "    plt.xlabel(r'$\\theta_1$')\n",
    "    plt.ylabel(r'$\\theta_2$')\n",
    "    plt.title(r'$\\eta$ =%s $s^3$' %etas[i].to_value(u.s**3))\n",
    "    plt.colorbar()\n",
    "plt.tight_layout()\n",
    "\n",
    "plt.figure(figsize=(8,8))\n",
    "plt.imshow(np.abs(SS)**2,norm=LogNorm(),origin='lower',aspect='auto',extent=ext_find(fd,tau),vmax=1e9,vmin=1e7)\n",
    "plt.ylim((0,3))\n",
    "plt.xlabel(r'$f_D$ (mHz)')\n",
    "plt.ylabel(r'$\\tau$ (us)')\n",
    "plt.title('Secondary Spectrum')\n",
    "for i in range(3):\n",
    "    plt.plot(fd,etas[i]*fd**2,label=r'$\\eta$ = %s $s^3$' %etas[i].to_value(u.s**3))\n",
    "plt.xlim((-.5,.5))\n",
    "plt.legend()"
   ]
  },
  {
   "cell_type": "markdown",
   "metadata": {},
   "source": [
    "# Single Curvature Measurement"
   ]
  },
  {
   "cell_type": "markdown",
   "metadata": {},
   "source": [
    "## Calculation"
   ]
  },
  {
   "cell_type": "code",
   "execution_count": null,
   "metadata": {
    "ExecuteTime": {
     "end_time": "2020-02-27T15:56:31.144248Z",
     "start_time": "2020-02-27T15:56:18.220151Z"
    },
    "scrolled": false
   },
   "outputs": [],
   "source": [
    "##Sample Curvature Search and Plots for Small Chunk of Data\n",
    "dspec2=dspec[:64]\n",
    "freq2=freq[:64]\n",
    "\n",
    "##Pad before forming secondary spectrum\n",
    "npad=3\n",
    "dspec_pad=np.pad(dspec2,((0,npad*dspec2.shape[0]),(0,npad*dspec2.shape[1])),mode='constant',constant_values=dspec2.mean())\n",
    "\n",
    "##Form SS and coordinate arrays\n",
    "SS=np.fft.fftshift(np.fft.fft2(dspec_pad))\n",
    "fd=np.fft.fftshift(np.fft.fftfreq((npad+1)*time.shape[0],time[1]-time[0]).to(u.mHz))*u.mHz\n",
    "tau=np.fft.fftshift(np.fft.fftfreq((npad+1)*freq2.shape[0],freq[1]-freq[0]).to(u.us))*u.us\n",
    "\n",
    "##Define range of curvatures to search\n",
    "eta_low=.5*u.us/(.04*u.mHz**2)\n",
    "eta_high=4*u.us/(.04*u.mHz**2)\n",
    "\n",
    "\n",
    "##Estimate noise in dynamic spectrum\n",
    "temp=np.fft.fftshift(np.abs(np.fft.fft2(dspec)/np.sqrt(dspec.shape[0]*dspec.shape[1]))**2)\n",
    "N=np.sqrt(temp[:temp.shape[0]//6,:temp.shape[1]//6].mean())\n",
    "\n",
    "##Setup for chisq search\n",
    "etas=np.linspace(eta_low.value,eta_high.value,100)*eta_low.unit\n",
    "chisq=np.zeros(etas.shape[0])\n",
    "\n",
    "##Determine chisq for each curvature\n",
    "mask=np.ones(dspec2.shape,dtype=bool)\n",
    "for i in range(etas.shape[0]):\n",
    "    eta=etas[i]\n",
    "    ##Fits a model generated by taking the outer product of the dominate eigenvector\n",
    "    ##(in theta-theta space) and then mapping back to the dynamic spectrum\n",
    "    chisq[i]=THTH.chisq_calc(dspec2,SS, tau, fd, eta, edges,mask,N)\n",
    "\n",
    "##Fit for a parabola around the minimum\n",
    "e_min=etas[chisq==chisq.min()][0]\n",
    "etas_fit=etas[np.abs(etas-e_min)<.1*e_min]\n",
    "chisq_fit=chisq[np.abs(etas-e_min)<.1*e_min]\n",
    "C=chisq_fit.min()\n",
    "x0=etas_fit[chisq_fit==C][0].value\n",
    "A=(chisq_fit[0]-C)/((etas_fit[0].value-x0)**2)\n",
    "popt,pcov=curve_fit(THTH.chi_par,etas_fit.value,chisq_fit,p0=np.array([A,x0,C]))\n",
    "eta_fit=popt[1]*etas.unit\n",
    "eta_sig=np.sqrt((chisq_fit-THTH.chi_par(etas_fit.value,*popt)).std()/popt[0])*etas.unit\n"
   ]
  },
  {
   "cell_type": "markdown",
   "metadata": {},
   "source": [
    "## Plots"
   ]
  },
  {
   "cell_type": "code",
   "execution_count": null,
   "metadata": {
    "ExecuteTime": {
     "end_time": "2020-02-27T15:56:33.144309Z",
     "start_time": "2020-02-27T15:56:31.272365Z"
    }
   },
   "outputs": [],
   "source": [
    "\n",
    "exp_fit=int(('%.0e' %eta_fit.value)[2:])\n",
    "exp_err=int(('%.0e' %eta_sig.value)[2:])\n",
    "fmt=\"{:.%se}\" %(exp_fit-exp_err)\n",
    "fit_string=fmt.format(eta_fit.value)[:2+exp_fit-exp_err]\n",
    "err_string='0%s' %fmt.format(10**(exp_fit)+eta_sig.value)[1:]\n",
    "\n",
    "##Best fit sample plots\n",
    "dspec_ext=ext_find(time.to(u.min),freq2)\n",
    "\n",
    "##Find dominant eigenvector/value\n",
    "thth_red,thth2_red,recov,model,edges_red=THTH.modeler(SS, tau, fd, eta_fit, edges)\n",
    "model=model[:dspec2.shape[0],:dspec2.shape[1]]\n",
    "\n",
    "##Plotting variables\n",
    "SS_ext=ext_find(fd,tau)\n",
    "SS_min=np.median(np.abs(SS)**2)\n",
    "SS_max=np.max(np.abs(2*recov)**2)*np.exp(-3)\n",
    "\n",
    "##Compare model to data in plots\n",
    "grid = plt.GridSpec(4, 2, wspace=0.4, hspace=0.3)\n",
    "plt.figure(figsize=(8,16))\n",
    "plt.subplot(grid[0,0])\n",
    "plt.imshow(dspec2,aspect='auto',origin='lower',extent=dspec_ext,vmin=0,vmax=250)\n",
    "plt.title('Dynamic Spectrum')\n",
    "plt.xlabel('Time (min)')\n",
    "plt.ylabel('Freq (MHz)')\n",
    "plt.subplot(grid[0,1])\n",
    "plt.imshow(model,aspect='auto',origin='lower',extent=dspec_ext,vmin=0,vmax=250)\n",
    "plt.title('Dynamic Spectrum Model')\n",
    "plt.xlabel('Time (min)')\n",
    "plt.ylabel('Freq (MHz)')\n",
    "plt.subplot(grid[1,0])\n",
    "plt.imshow(np.abs(SS)**2,\n",
    "           norm=LogNorm(),\n",
    "           aspect='auto',\n",
    "           origin='lower',\n",
    "           extent=SS_ext,\n",
    "           vmin=SS_min,\n",
    "           vmax=SS_max)\n",
    "plt.xlim((-.5,.5))\n",
    "plt.ylim((0,3))\n",
    "plt.plot(fd,eta_low*(fd**2),'k')\n",
    "plt.plot(fd,eta_high*(fd**2),'k')\n",
    "plt.plot(fd,eta_fit*(fd**2),'r')\n",
    "plt.title('Secondary Spectrum')\n",
    "plt.xlabel(r'$f_D$ (mHz)')\n",
    "plt.ylabel(r'$\\tau$ (us)')\n",
    "plt.subplot(grid[1,1])\n",
    "plt.imshow(np.abs(2*recov)**2,\n",
    "           norm=LogNorm(),\n",
    "           aspect='auto',\n",
    "           origin='lower',\n",
    "           extent=SS_ext,\n",
    "           vmin=SS_min,\n",
    "           vmax=SS_max)\n",
    "plt.xlim((-.5,.5))\n",
    "plt.ylim((0,3))\n",
    "plt.plot(fd,eta_low*(fd**2),'k')\n",
    "plt.plot(fd,eta_high*(fd**2),'k')\n",
    "plt.plot(fd,eta_fit*(fd**2),'r')\n",
    "plt.title('Secondary Spectrum Model')\n",
    "plt.xlabel(r'$f_D$ (mHz)')\n",
    "plt.ylabel(r'$\\tau$ (us)')\n",
    "\n",
    "thth_min=np.median(np.abs(thth_red))/10\n",
    "thth_max=np.max(np.abs(thth_red))\n",
    "\n",
    "plt.subplot(grid[2,0])\n",
    "plt.imshow(np.abs(thth_red),\n",
    "           norm=LogNorm(),\n",
    "           aspect='auto',\n",
    "           origin='lower',\n",
    "           extent=[edges_red[0],edges_red[-1],edges_red[0],edges_red[-1]],\n",
    "           vmin=thth_min,\n",
    "           vmax=thth_max)\n",
    "plt.title(r'$\\theta-\\theta$')\n",
    "plt.xlabel(r'$\\theta_1$')\n",
    "plt.ylabel(r'$\\theta_2$')\n",
    "plt.subplot(grid[2,1])\n",
    "plt.imshow(np.abs(thth2_red),\n",
    "           norm=LogNorm(),\n",
    "           aspect='auto',\n",
    "           origin='lower',\n",
    "           extent=[edges_red[0],edges_red[-1],edges_red[0],edges_red[-1]],\n",
    "           vmin=thth_min,\n",
    "           vmax=thth_max)\n",
    "plt.title(r'$\\theta-\\theta$')\n",
    "plt.xlabel(r'$\\theta_1$')\n",
    "plt.ylabel(r'$\\theta_2$')\n",
    "plt.subplot(grid[3,:])\n",
    "plt.plot(etas,chisq)\n",
    "plt.plot(etas_fit,THTH.chi_par(etas_fit.value,*popt),label=r'%s $\\pm$ %s $s^3$' %(fit_string,err_string))\n",
    "plt.xlabel(r'$\\eta$ ($s^3$)')\n",
    "plt.ylabel(r'$\\chi^2$')\n",
    "plt.title('Curvature Search')\n",
    "plt.legend()"
   ]
  },
  {
   "cell_type": "markdown",
   "metadata": {},
   "source": [
    "# Full Curvature Analysis"
   ]
  },
  {
   "cell_type": "markdown",
   "metadata": {},
   "source": [
    "## Looped Fitting"
   ]
  },
  {
   "cell_type": "code",
   "execution_count": null,
   "metadata": {
    "ExecuteTime": {
     "end_time": "2020-02-27T15:59:39.838173Z",
     "start_time": "2020-02-27T15:56:33.272458Z"
    }
   },
   "outputs": [],
   "source": [
    "##Divide dynamic spectrum into small chunks in frequency \n",
    "##For some datasets you may need to divide into time chunks aswell \n",
    "nchunk=dspec.shape[0]//64\n",
    "\n",
    "##Arrays for curvatures in each frequency chunk\n",
    "f0=np.zeros(nchunk)*u.MHz\n",
    "eta_evo=np.zeros(nchunk)*u.us/u.mHz**2\n",
    "eta_evo_err=np.zeros(nchunk)*u.us/u.mHz**2\n",
    "\n",
    "##Loop over chunks\n",
    "for fc in range(nchunk):\n",
    "    ##Define dspec and freq array for chunk\n",
    "    dspec2=dspec[fc*64:(fc+1)*64]\n",
    "    freq2=freq[fc*64:(fc+1)*64]\n",
    "    f0[fc]=freq2.mean()\n",
    "    \n",
    "    ##Pad before forming dynamic spectrum\n",
    "    npad=3\n",
    "    dspec_pad=np.pad(dspec2,((0,npad*dspec2.shape[0]),(0,npad*dspec2.shape[1])),mode='constant',constant_values=dspec2.mean())\n",
    "\n",
    "    ##Form SS and coordinate arrays\n",
    "    SS=np.fft.fftshift(np.fft.fft2(dspec_pad))\n",
    "    fd=np.fft.fftshift(np.fft.fftfreq((npad+1)*time.shape[0],time[1]-time[0]).to(u.mHz))*u.mHz\n",
    "    tau=np.fft.fftshift(np.fft.fftfreq((npad+1)*freq2.shape[0],freq[1]-freq[0]).to(u.us))*u.us\n",
    "\n",
    "    ##Define range of curvatures to search\n",
    "    eta_low=.5*u.us/(.04*u.mHz**2)\n",
    "    eta_high=4*u.us/(.04*u.mHz**2)\n",
    "\n",
    "\n",
    "    ##Estimate noise in dynamic spectrum\n",
    "    temp=np.fft.fftshift(np.abs(np.fft.fft2(dspec)/np.sqrt(dspec.shape[0]*dspec.shape[1]))**2)\n",
    "    N=np.sqrt(temp[:temp.shape[0]//6,:temp.shape[1]//6].mean())\n",
    "\n",
    "    ##Setup for chisq search\n",
    "    etas=np.linspace(eta_low.value,eta_high.value,100)*eta_low.unit\n",
    "    chisq=np.zeros(etas.shape[0])\n",
    "    ##Bin Edges for thth plot \n",
    "    ##(should be symmetric about 0 and contain an even number of points)\n",
    "    edges=np.linspace(-.4,.4,512)\n",
    "    ##Determine chisq for each curvature\n",
    "    for i in range(etas.shape[0]):\n",
    "        eta=etas[i]\n",
    "        chisq[i]=THTH.chisq_calc(dspec2,SS, tau, fd, eta, edges,mask,N)\n",
    "\n",
    "    e_min=etas[chisq==chisq.min()][0]\n",
    "    etas_fit=etas[np.abs(etas-e_min)<.1*e_min]\n",
    "    chisq_fit=chisq[np.abs(etas-e_min)<.1*e_min]\n",
    "    C=chisq_fit.min()\n",
    "    x0=etas_fit[chisq_fit==C][0].value\n",
    "    A=(chisq_fit[0]-C)/((etas_fit[0].value-x0)**2)\n",
    "    popt,pcov=curve_fit(THTH.chi_par,etas_fit.value,chisq_fit,p0=np.array([A,x0,C]))\n",
    "    eta_fit=popt[1]*etas.unit\n",
    "    eta_sig=np.sqrt((chisq_fit-THTH.chi_par(etas_fit.value,*popt)).std()/popt[0])*etas.unit\n",
    "\n",
    "    eta_evo[fc]=eta_fit\n",
    "    eta_evo_err[fc]=eta_sig\n"
   ]
  },
  {
   "cell_type": "markdown",
   "metadata": {},
   "source": [
    "## Curvature Evolution"
   ]
  },
  {
   "cell_type": "code",
   "execution_count": null,
   "metadata": {
    "ExecuteTime": {
     "end_time": "2020-02-27T15:59:40.306137Z",
     "start_time": "2020-02-27T15:59:39.983806Z"
    }
   },
   "outputs": [],
   "source": [
    "##Fit for overall curvature evolution\n",
    "popt,pcov=curve_fit(eta_func,f0.value,eta_evo.value,sigma=eta_evo_err.value,p0=[np.median(eta_evo.value*f0.value)])\n",
    "A=popt[0]*(u.us)*u.MHz**2/u.mHz**2\n",
    "A_err=np.sqrt(pcov[0,0])*u.us*u.MHz**2/u.mHz**2\n",
    "A/=(1400*u.MHz)**2\n",
    "A_err/=(1400*u.MHz)**2\n",
    "\n",
    "exp_fit=int(('%.0e' %A.value)[2:])\n",
    "exp_err=int(('%.0e' %A_err.value)[2:])\n",
    "fmt=\"{:.%se}\" %(exp_fit-exp_err)\n",
    "fit_string=fmt.format(A.value)[:2+exp_fit-exp_err]\n",
    "err_string='0%s' %fmt.format(10**(exp_fit)+A_err.value)[1:]\n",
    "\n",
    "plt.figure()\n",
    "plt.errorbar(f0.value,eta_evo.value,yerr=eta_evo_err.value)\n",
    "plt.plot(f0.value,eta_func(f0.value,*popt),label=r'$\\eta_{1400}$ = %s $\\pm$ %s  $s^3$' %(fit_string, err_string))\n",
    "plt.title(r'Curvature Evolution')\n",
    "plt.xlabel('Freq (MHz)')\n",
    "plt.ylabel(r'$\\eta$ ($s^3$)')\n",
    "plt.legend()"
   ]
  },
  {
   "cell_type": "markdown",
   "metadata": {},
   "source": [
    "# Phase Retrieval"
   ]
  },
  {
   "cell_type": "markdown",
   "metadata": {},
   "source": [
    "## Retieve for overlapping chunks"
   ]
  },
  {
   "cell_type": "code",
   "execution_count": null,
   "metadata": {
    "ExecuteTime": {
     "end_time": "2020-02-27T15:59:43.802061Z",
     "start_time": "2020-02-27T15:59:40.399073Z"
    }
   },
   "outputs": [],
   "source": [
    "##Perform phase retreival on chunks of data\n",
    "\n",
    "nchunk=(dspec.shape[0]-32)//32\n",
    "\n",
    "chunks=np.zeros((nchunk,64,dspec.shape[1]),dtype=complex)\n",
    "\n",
    "for fc in range(nchunk):\n",
    "    dspec2=dspec[fc*32:fc*32+64]\n",
    "    freq2=freq[fc*32:fc*32+64]\n",
    "    eta=A*((1400*u.MHz/freq2.mean())**2)\n",
    "    \n",
    "\n",
    "\n",
    "    npad=3\n",
    "\n",
    "    dspec_pad=np.pad(dspec2,((0,npad*dspec2.shape[0]),(0,npad*dspec2.shape[1])),mode='constant',constant_values=dspec2.mean())\n",
    "\n",
    "    SS=np.fft.fftshift(np.fft.fft2(dspec_pad))\n",
    "    fd=np.fft.fftshift(np.fft.fftfreq((npad+1)*time.shape[0],time[1]-time[0]).to(u.mHz))*u.mHz\n",
    "    tau=np.fft.fftshift(np.fft.fftfreq((npad+1)*freq2.shape[0],freq[1]-freq[0]).to(u.us))*u.us\n",
    "\n",
    "   \n",
    "    thth_red,edges_red=THTH.thth_redmap(SS, tau, fd, eta, edges)\n",
    "    w,V=eigsh(thth_red,1)\n",
    "    w=w[0]\n",
    "    V=V[:,0]\n",
    "    \n",
    "    thth2_red=thth_red*0\n",
    "    thth2_red[thth2_red.shape[0]//2,:]=np.conjugate(V)*np.sqrt(w)\n",
    "    recov=THTH.rev_map(thth2_red,tau,fd,eta,edges_red)\n",
    "    model_E=np.fft.ifft2(np.fft.ifftshift(recov))[:dspec2.shape[0],:dspec2.shape[1]]\n",
    "    model_E*=(dspec2.shape[0]*dspec2.shape[1]/2)\n",
    "    model_E=model_E[:dspec2.shape[0],:dspec2.shape[1]]\n",
    "    chunks[fc,:,:]=model_E"
   ]
  },
  {
   "cell_type": "code",
   "execution_count": null,
   "metadata": {
    "ExecuteTime": {
     "end_time": "2020-02-27T15:59:44.422045Z",
     "start_time": "2020-02-27T15:59:43.940857Z"
    }
   },
   "outputs": [],
   "source": [
    "plt.figure()\n",
    "plt.imshow(np.abs(chunks[0,:,:])**2,vmax=250)\n",
    "plt.colorbar()\n",
    "plt.figure()\n",
    "plt.imshow(dspec[:chunks.shape[1],:chunks.shape[2]],vmax=250)\n",
    "plt.colorbar()"
   ]
  },
  {
   "cell_type": "markdown",
   "metadata": {},
   "source": [
    "## Rotate and combine chunks"
   ]
  },
  {
   "cell_type": "code",
   "execution_count": null,
   "metadata": {
    "ExecuteTime": {
     "end_time": "2020-02-27T15:59:44.989327Z",
     "start_time": "2020-02-27T15:59:44.554352Z"
    }
   },
   "outputs": [],
   "source": [
    "plt.figure()\n",
    "plt.imshow(np.angle(chunks[0,32:,:]),cmap='twilight')\n",
    "plt.figure()\n",
    "plt.imshow(np.angle(chunks[1,:32,:]),cmap='twilight')\n",
    "plt.figure()\n",
    "plt.imshow(np.angle(chunks[0,32:,:]*np.conjugate(chunks[1,:32,:])),vmin=-np.pi,vmax=np.pi,cmap='twilight')\n",
    "np.angle(chunks[0,32:,:]*np.conjugate(chunks[1,:32,:])).mean()"
   ]
  },
  {
   "cell_type": "code",
   "execution_count": null,
   "metadata": {
    "ExecuteTime": {
     "end_time": "2020-02-27T15:59:46.151496Z",
     "start_time": "2020-02-27T15:59:45.122043Z"
    }
   },
   "outputs": [],
   "source": [
    "E_recov=np.zeros(espec.shape,dtype=complex)\n",
    "for i in range(nchunk):\n",
    "    msk=np.ones(64)\n",
    "    if i>0:\n",
    "        msk[:32]=np.sin((np.pi/2)*np.linspace(0,31,32)/32)**2\n",
    "    if i<nchunk-1:\n",
    "        msk[32:]=np.cos((np.pi/2)*np.linspace(0,31,32)/32)**2\n",
    "    if i>0:\n",
    "        rot=np.angle((E_recov[(i-1)*32:(i-1)*32+64,:][32:,:]*np.conjugate(chunks[i,:,:][:32,:])).mean())\n",
    "    else:\n",
    "        rot=0\n",
    "    E_recov[i*32:i*32+64,:]+=chunks[i,:,:]*msk[:,np.newaxis]*np.exp(1j*rot)\n",
    "\n",
    "    \n",
    "dspec_ext=ext_find(time.to(u.hour),freq)\n",
    "plt.figure(figsize=(8,16))\n",
    "plt.subplot(222)\n",
    "plt.imshow(np.abs(E_recov)**2,aspect='auto',origin='lower',vmin=0,vmax=250,extent=dspec_ext)\n",
    "plt.xlabel('Time (hrs)')\n",
    "plt.ylabel('Freq (MHz)')\n",
    "plt.title('Dynamic Spectrum Model')\n",
    "plt.subplot(221)\n",
    "plt.imshow(np.abs(espec)**2,aspect='auto',origin='lower',vmin=0,vmax=250,extent=dspec_ext)\n",
    "plt.xlabel('Time (hrs)')\n",
    "plt.ylabel('Freq (MHz)')\n",
    "plt.title('Dynamic Spectrum')\n",
    "plt.subplot(224)\n",
    "plt.imshow(np.angle(E_recov),cmap='twilight',aspect='auto',origin='lower',extent=dspec_ext)\n",
    "plt.xlabel('Time (hrs)')\n",
    "plt.ylabel('Freq (MHz)')\n",
    "plt.title('Wave Field Phase Model')\n",
    "plt.subplot(223)\n",
    "plt.imshow(np.angle(espec),cmap='twilight',aspect='auto',origin='lower',extent=dspec_ext)\n",
    "plt.xlabel('Time (hrs)')\n",
    "plt.ylabel('Freq (MHz)')\n",
    "plt.title('Wave Field Phase')"
   ]
  },
  {
   "cell_type": "code",
   "execution_count": null,
   "metadata": {
    "ExecuteTime": {
     "end_time": "2020-02-27T15:59:47.262064Z",
     "start_time": "2020-02-27T15:59:46.304710Z"
    }
   },
   "outputs": [],
   "source": [
    "plt.figure()\n",
    "plt.imshow(np.angle(espec*np.conjugate(E_recov)),\n",
    "           cmap='twilight',\n",
    "           aspect='auto',\n",
    "           origin='lower',\n",
    "           extent=dspec_ext)\n",
    "plt.xlabel('Time (hrs)')\n",
    "plt.ylabel('Freq (MHz)')\n",
    "plt.title('Phase Difference')\n",
    "plt.colorbar()\n",
    "plt.figure(figsize=(8,8))\n",
    "plt.subplot(121)\n",
    "plt.imshow(np.angle(E_recov*np.exp(1j*np.angle((espec*np.conjugate(E_recov)).mean()))),cmap='twilight',aspect='auto',origin='lower',extent=dspec_ext)\n",
    "plt.xlabel('Time (hrs)')\n",
    "plt.ylabel('Freq (MHz)')\n",
    "plt.title('Corrected Phase')\n",
    "plt.colorbar()\n",
    "plt.subplot(122)\n",
    "plt.imshow(np.angle(espec),cmap='twilight',aspect='auto',origin='lower',extent=dspec_ext)\n",
    "plt.xlabel('Time (hrs)')\n",
    "plt.ylabel('Freq (MHz)')\n",
    "plt.title('Wave Field Phase')\n",
    "plt.colorbar()"
   ]
  },
  {
   "cell_type": "code",
   "execution_count": null,
   "metadata": {
    "ExecuteTime": {
     "end_time": "2020-02-27T15:59:48.237292Z",
     "start_time": "2020-02-27T15:59:47.422626Z"
    }
   },
   "outputs": [],
   "source": [
    "fd_full=np.fft.fftshift(np.fft.fftfreq(time.shape[0],time[1]-time[0]).to(u.mHz))*u.mHz\n",
    "tau_full=np.fft.fftshift(np.fft.fftfreq(freq.shape[0],freq[1]-freq[0]).to(u.us))*u.us\n",
    "SS_ext_full=ext_find(fd,tau)\n",
    "temp2=np.nan_to_num(np.sqrt(dspec))*np.exp(1j*np.angle(E_recov))\n",
    "\n",
    "plt.figure(figsize=(8,8))\n",
    "plt.subplot(131)\n",
    "plt.imshow(np.abs(np.fft.fftshift(np.fft.fft2(E_recov)))**2,\n",
    "           norm=LogNorm(),\n",
    "           origin='lower',\n",
    "           aspect='auto',\n",
    "           extent=SS_ext_full,\n",
    "           vmax=1e10,\n",
    "           vmin=1e2)\n",
    "plt.xlabel(r'$f_D$ (mHz)')\n",
    "plt.ylabel(r'$\\tau$ (us)')\n",
    "plt.title('Wave Field Model')\n",
    "plt.xlim((-1,1))\n",
    "plt.ylim((-1,3))\n",
    "plt.subplot(132)\n",
    "plt.imshow(np.abs(np.fft.fftshift(np.fft.fft2(espec)))**2,\n",
    "           norm=LogNorm(),\n",
    "           origin='lower',\n",
    "           aspect='auto',\n",
    "           extent=SS_ext_full,\n",
    "           vmax=1e10,\n",
    "           vmin=1e2)\n",
    "plt.xlabel(r'$f_D$ (mHz)')\n",
    "plt.ylabel(r'$\\tau$ (us)')\n",
    "plt.title('Wave Field')\n",
    "plt.xlim((-1,1))\n",
    "plt.ylim((-1,3))\n",
    "\n",
    "plt.subplot(133)\n",
    "plt.imshow(np.abs(np.fft.fftshift(np.fft.fft2(temp2)))**2,\n",
    "           norm=LogNorm(),\n",
    "           origin='lower',\n",
    "           aspect='auto',\n",
    "           extent=SS_ext_full,\n",
    "           vmax=1e10,\n",
    "           vmin=1e2)\n",
    "plt.xlabel(r'$f_D$ (mHz)')\n",
    "plt.ylabel(r'$\\tau$ (us)')\n",
    "plt.title('Wave Field Model (Forced Amplitudes)')\n",
    "plt.xlim((-1,1))\n",
    "plt.ylim((-1,3))"
   ]
  },
  {
   "cell_type": "markdown",
   "metadata": {},
   "source": [
    "# Eigenvalue Search (Development)"
   ]
  },
  {
   "cell_type": "markdown",
   "metadata": {},
   "source": [
    "The Eigenvalue Curvature Search (TECS) is implemented very similarly to the reduced $\\chi^2$ fitting above. The main difference is that instead of mapping back to the dynamic spectrum, we look at the largest eigenvalue of the $\\theta-\\theta$ matrix. This has several advantages: \n",
    "\\begin{enumerate}\n",
    "  \\item Fewer transformations lead to a faster run time\n",
    "  \\item No need to worry about resolution in the reversemap (fewer dials)\n",
    "\\end{enumerate}\n",
    "\n",
    "The only user side changes are that the dynamic spectrum should have its mean subtracted, and the largest eigenvalue at each frequency is given by the function Eval_calc(SS, tau, fd, eta, edges) in the ththmod.py"
   ]
  },
  {
   "cell_type": "markdown",
   "metadata": {},
   "source": [
    "## Single Chunk"
   ]
  },
  {
   "cell_type": "code",
   "execution_count": null,
   "metadata": {
    "ExecuteTime": {
     "end_time": "2020-02-27T16:06:15.500669Z",
     "start_time": "2020-02-27T16:06:06.682192Z"
    }
   },
   "outputs": [],
   "source": [
    "##Sample Curvature Search and Plots for Small Chunk of Data\n",
    "dspec2=dspec[:64]-dspec[:64].mean()\n",
    "freq2=freq[:64]\n",
    "\n",
    "##Pad before forming secondary spectrum\n",
    "npad=3\n",
    "dspec_pad=np.pad(dspec2,((0,npad*dspec2.shape[0]),(0,npad*dspec2.shape[1])),mode='constant',constant_values=dspec2.mean())\n",
    "\n",
    "##Form SS and coordinate arrays\n",
    "SS=np.fft.fftshift(np.fft.fft2(dspec_pad))\n",
    "fd=np.fft.fftshift(np.fft.fftfreq((npad+1)*time.shape[0],time[1]-time[0]).to(u.mHz))*u.mHz\n",
    "tau=np.fft.fftshift(np.fft.fftfreq((npad+1)*freq2.shape[0],freq[1]-freq[0]).to(u.us))*u.us\n",
    "\n",
    "##Define range of curvatures to search\n",
    "eta_low=.5*u.us/(.04*u.mHz**2)\n",
    "eta_high=4*u.us/(.04*u.mHz**2)\n",
    "\n",
    "\n",
    "##Estimate noise in dynamic spectrum\n",
    "temp=np.fft.fftshift(np.abs(np.fft.fft2(dspec)/np.sqrt(dspec.shape[0]*dspec.shape[1]))**2)\n",
    "N=np.sqrt(temp[:temp.shape[0]//6,:temp.shape[1]//6].mean())\n",
    "\n",
    "##Setup for chisq search\n",
    "etas=np.linspace(eta_low.value,eta_high.value,100)*eta_low.unit\n",
    "chisq=np.zeros(etas.shape[0])\n",
    "\n",
    "##Determine chisq for each curvature\n",
    "mask=np.ones(dspec2.shape,dtype=bool)\n",
    "for i in range(etas.shape[0]):\n",
    "    eta=etas[i]\n",
    "    ##Fits a model generated by taking the outer product of the dominate eigenvector\n",
    "    ##(in theta-theta space) and then mapping back to the dynamic spectrum\n",
    "    chisq[i]=THTH.Eval_calc(SS, tau, fd, eta, edges)\n",
    "\n",
    "##Fit for a parabola around the minimum\n",
    "e_min=etas[chisq==chisq.max()][0]\n",
    "etas_fit=etas[np.abs(etas-e_min)<.1*e_min]\n",
    "chisq_fit=chisq[np.abs(etas-e_min)<.1*e_min]\n",
    "C=chisq_fit.max()\n",
    "x0=etas_fit[chisq_fit==C][0].value\n",
    "A=(chisq_fit[0]-C)/((etas_fit[0].value-x0)**2)\n",
    "popt,pcov=curve_fit(THTH.chi_par,etas_fit.value,chisq_fit,p0=np.array([A,x0,C]))\n",
    "eta_fit=popt[1]*etas.unit\n",
    "eta_sig=np.sqrt(-(chisq_fit-THTH.chi_par(etas_fit.value,*popt)).std()/popt[0])*etas.unit\n",
    "\n",
    "\n",
    "\n",
    "exp_fit=int(('%.0e' %eta_fit.value)[2:])\n",
    "exp_err=int(('%.0e' %eta_sig.value)[2:])\n",
    "fmt=\"{:.%se}\" %(exp_fit-exp_err)\n",
    "fit_string=fmt.format(eta_fit.value)[:2+exp_fit-exp_err]\n",
    "err_string='0%s' %fmt.format(10**(exp_fit)+eta_sig.value)[1:]\n",
    "\n",
    "##Best fit sample plots\n",
    "dspec_ext=ext_find(time.to(u.min),freq2)\n",
    "\n",
    "##Find dominant eigenvector/value\n",
    "thth_red,thth2_red,recov,model,edges_red=THTH.modeler(SS, tau, fd, eta_fit, edges)\n",
    "model=2*model[:dspec2.shape[0],:dspec2.shape[1]]\n",
    "\n",
    "##Plotting variables\n",
    "SS_ext=ext_find(fd,tau)\n",
    "SS_min=np.median(np.abs(SS)**2)\n",
    "SS_max=np.max(np.abs(2*recov)**2)*np.exp(-3)\n",
    "\n",
    "##Compare model to data in plots\n",
    "grid = plt.GridSpec(4, 2, wspace=0.4, hspace=0.3)\n",
    "plt.figure(figsize=(8,16))\n",
    "plt.subplot(grid[0,0])\n",
    "plt.imshow(dspec2,aspect='auto',origin='lower',extent=dspec_ext,vmin=0,vmax=250)\n",
    "plt.title('Dynamic Spectrum')\n",
    "plt.xlabel('Time (min)')\n",
    "plt.ylabel('Freq (MHz)')\n",
    "plt.subplot(grid[0,1])\n",
    "plt.imshow(model,aspect='auto',origin='lower',extent=dspec_ext,vmin=0,vmax=250)\n",
    "plt.title('Dynamic Spectrum Model')\n",
    "plt.xlabel('Time (min)')\n",
    "plt.ylabel('Freq (MHz)')\n",
    "plt.subplot(grid[1,0])\n",
    "plt.imshow(np.abs(SS)**2,\n",
    "           norm=LogNorm(),\n",
    "           aspect='auto',\n",
    "           origin='lower',\n",
    "           extent=SS_ext,\n",
    "           vmin=SS_min,\n",
    "           vmax=SS_max)\n",
    "plt.xlim((-.5,.5))\n",
    "plt.ylim((0,3))\n",
    "plt.plot(fd,eta_low*(fd**2),'k')\n",
    "plt.plot(fd,eta_high*(fd**2),'k')\n",
    "plt.plot(fd,eta_fit*(fd**2),'r')\n",
    "plt.title('Secondary Spectrum')\n",
    "plt.xlabel(r'$f_D$ (mHz)')\n",
    "plt.ylabel(r'$\\tau$ (us)')\n",
    "plt.subplot(grid[1,1])\n",
    "plt.imshow(np.abs(2*recov)**2,\n",
    "           norm=LogNorm(),\n",
    "           aspect='auto',\n",
    "           origin='lower',\n",
    "           extent=SS_ext,\n",
    "           vmin=SS_min,\n",
    "           vmax=SS_max)\n",
    "plt.xlim((-.5,.5))\n",
    "plt.ylim((0,3))\n",
    "plt.plot(fd,eta_low*(fd**2),'k')\n",
    "plt.plot(fd,eta_high*(fd**2),'k')\n",
    "plt.plot(fd,eta_fit*(fd**2),'r')\n",
    "plt.title('Secondary Spectrum Model')\n",
    "plt.xlabel(r'$f_D$ (mHz)')\n",
    "plt.ylabel(r'$\\tau$ (us)')\n",
    "\n",
    "thth_min=np.median(np.abs(thth_red))/10\n",
    "thth_max=np.max(np.abs(thth_red))\n",
    "\n",
    "plt.subplot(grid[2,0])\n",
    "plt.imshow(np.abs(thth_red),\n",
    "           norm=LogNorm(),\n",
    "           aspect='auto',\n",
    "           origin='lower',\n",
    "           extent=[edges_red[0],edges_red[-1],edges_red[0],edges_red[-1]],\n",
    "           vmin=thth_min,\n",
    "           vmax=thth_max)\n",
    "plt.title(r'$\\theta-\\theta$')\n",
    "plt.xlabel(r'$\\theta_1$')\n",
    "plt.ylabel(r'$\\theta_2$')\n",
    "plt.subplot(grid[2,1])\n",
    "plt.imshow(np.abs(thth2_red),\n",
    "           norm=LogNorm(),\n",
    "           aspect='auto',\n",
    "           origin='lower',\n",
    "           extent=[edges_red[0],edges_red[-1],edges_red[0],edges_red[-1]],\n",
    "           vmin=thth_min,\n",
    "           vmax=thth_max)\n",
    "plt.title(r'$\\theta-\\theta$')\n",
    "plt.xlabel(r'$\\theta_1$')\n",
    "plt.ylabel(r'$\\theta_2$')\n",
    "plt.subplot(grid[3,:])\n",
    "plt.plot(etas,chisq)\n",
    "plt.plot(etas_fit,THTH.chi_par(etas_fit.value,*popt),label=r'%s $\\pm$ %s $s^3$' %(fit_string,err_string))\n",
    "plt.xlabel(r'$\\eta$ ($s^3$)')\n",
    "plt.ylabel(r'$\\chi^2$')\n",
    "plt.title('Curvature Search (Eigen Value)')\n",
    "plt.legend()"
   ]
  },
  {
   "cell_type": "markdown",
   "metadata": {},
   "source": [
    "## Full Curvature Analysis"
   ]
  },
  {
   "cell_type": "markdown",
   "metadata": {},
   "source": [
    "### Looped Fitting"
   ]
  },
  {
   "cell_type": "code",
   "execution_count": null,
   "metadata": {
    "ExecuteTime": {
     "end_time": "2020-02-27T16:00:17.036531Z",
     "start_time": "2020-02-27T15:59:55.994972Z"
    },
    "collapsed": true
   },
   "outputs": [],
   "source": [
    "##Divide dynamic spectrum into small chunks in frequency \n",
    "##For some datasets you may need to divide into time chunks aswell \n",
    "nchunk=dspec.shape[0]//64\n",
    "\n",
    "##Arrays for curvatures in each frequency chunk\n",
    "f0=np.zeros(nchunk)*u.MHz\n",
    "eta_evo=np.zeros(nchunk)*u.us/u.mHz**2\n",
    "eta_evo_err=np.zeros(nchunk)*u.us/u.mHz**2\n",
    "\n",
    "##Loop over chunks\n",
    "for fc in range(nchunk):\n",
    "    ##Define dspec and freq array for chunk\n",
    "    dspec2=dspec[fc*64:(fc+1)*64]\n",
    "    dspec2-=dspec2.mean()\n",
    "    freq2=freq[fc*64:(fc+1)*64]\n",
    "    f0[fc]=freq2.mean()\n",
    "    \n",
    "    ##Pad before forming dynamic spectrum\n",
    "    npad=3\n",
    "    dspec_pad=np.pad(dspec2,((0,npad*dspec2.shape[0]),(0,npad*dspec2.shape[1])),mode='constant',constant_values=dspec2.mean())\n",
    "\n",
    "    ##Form SS and coordinate arrays\n",
    "    SS=np.fft.fftshift(np.fft.fft2(dspec_pad))\n",
    "    fd=np.fft.fftshift(np.fft.fftfreq((npad+1)*time.shape[0],time[1]-time[0]).to(u.mHz))*u.mHz\n",
    "    tau=np.fft.fftshift(np.fft.fftfreq((npad+1)*freq2.shape[0],freq[1]-freq[0]).to(u.us))*u.us\n",
    "\n",
    "    ##Define range of curvatures to search\n",
    "    eta_low=30*u.us/u.mHz**2\n",
    "    eta_high=50*u.us/u.mHz**2\n",
    "\n",
    "    ##Setup for chisq search\n",
    "    etas=np.linspace(eta_low.value,eta_high.value,25)*eta_low.unit\n",
    "    evals=np.zeros(etas.shape[0])\n",
    "    ##Bin Edges for thth plot \n",
    "    ##(should be symmetric about 0 and contain an even number of points)\n",
    "    edges=np.linspace(-.4,.4,512)\n",
    "    ##Determine chisq for each curvature\n",
    "    for i in range(etas.shape[0]):\n",
    "        eta=etas[i]\n",
    "        evals[i]=THTH.Eval_calc(SS, tau, fd, eta, edges)\n",
    "\n",
    "    e_min=etas[evals==evals.max()][0]\n",
    "    etas_fit=etas[np.abs(etas-e_min)<.1*e_min]\n",
    "    evals_fit=evals[np.abs(etas-e_min)<.1*e_min]\n",
    "    C=evals_fit.max()\n",
    "    x0=etas_fit[evals_fit==C][0].value\n",
    "    A=(evals_fit[0]-C)/((etas_fit[0].value-x0)**2)\n",
    "    popt,pcov=curve_fit(THTH.chi_par,etas_fit.value,evals_fit,p0=np.array([A,x0,C]))\n",
    "    eta_fit=popt[1]*etas.unit\n",
    "    eta_sig=np.sqrt(-(evals_fit-THTH.chi_par(etas_fit.value,*popt)).std()/popt[0])*etas.unit\n",
    "\n",
    "    eta_evo[fc]=eta_fit\n",
    "    eta_evo_err[fc]=eta_sig\n"
   ]
  },
  {
   "cell_type": "code",
   "execution_count": null,
   "metadata": {
    "ExecuteTime": {
     "end_time": "2020-02-27T16:00:17.445711Z",
     "start_time": "2020-02-27T16:00:17.187255Z"
    }
   },
   "outputs": [],
   "source": [
    "##Fit for overall curvature evolution\n",
    "popt,pcov=curve_fit(eta_func,f0.value,eta_evo.value,sigma=eta_evo_err.value,p0=[np.median(eta_evo.value*f0.value)])\n",
    "A=popt[0]*(u.us)*u.MHz**2/u.mHz**2\n",
    "A_err=np.sqrt(pcov[0,0])*u.us*u.MHz**2/u.mHz**2\n",
    "A/=(1400*u.MHz)**2\n",
    "A_err/=(1400*u.MHz)**2\n",
    "\n",
    "exp_fit=int(('%.0e' %A.value)[2:])\n",
    "exp_err=int(('%.0e' %A_err.value)[2:])\n",
    "fmt=\"{:.%se}\" %(exp_fit-exp_err)\n",
    "fit_string=fmt.format(A.value)[:2+exp_fit-exp_err]\n",
    "err_string='0%s' %fmt.format(10**(exp_fit)+A_err.value)[1:]\n",
    "\n",
    "plt.figure()\n",
    "plt.errorbar(f0.value,eta_evo.value,yerr=eta_evo_err.value)\n",
    "plt.plot(f0.value,eta_func(f0.value,*popt),label=r'$\\eta_{1400}$ = %s $\\pm$ %s  $s^3$' %(fit_string, err_string))\n",
    "plt.title(r'Curvature Evolution')\n",
    "plt.xlabel('Freq (MHz)')\n",
    "plt.ylabel(r'$\\eta$ ($s^3$)')\n",
    "plt.legend()"
   ]
  }
 ],
 "metadata": {
  "kernelspec": {
   "display_name": "Python 3",
   "language": "python",
   "name": "python3"
  },
  "language_info": {
   "codemirror_mode": {
    "name": "ipython",
    "version": 3
   },
   "file_extension": ".py",
   "mimetype": "text/x-python",
   "name": "python",
   "nbconvert_exporter": "python",
   "pygments_lexer": "ipython3",
   "version": "3.6.3"
  },
  "latex_envs": {
   "LaTeX_envs_menu_present": true,
   "autoclose": false,
   "autocomplete": true,
   "bibliofile": "biblio.bib",
   "cite_by": "apalike",
   "current_citInitial": 1,
   "eqLabelWithNumbers": true,
   "eqNumInitial": 1,
   "hotkeys": {
    "equation": "Ctrl-E",
    "itemize": "Ctrl-I"
   },
   "labels_anchors": false,
   "latex_user_defs": false,
   "report_style_numbering": false,
   "user_envs_cfg": false
  },
  "toc": {
   "base_numbering": 1,
   "nav_menu": {},
   "number_sections": true,
   "sideBar": true,
   "skip_h1_title": false,
   "title_cell": "Table of Contents",
   "title_sidebar": "Contents",
   "toc_cell": false,
   "toc_position": {},
   "toc_section_display": true,
   "toc_window_display": true
  },
  "varInspector": {
   "cols": {
    "lenName": 16,
    "lenType": 16,
    "lenVar": 40
   },
   "kernels_config": {
    "python": {
     "delete_cmd_postfix": "",
     "delete_cmd_prefix": "del ",
     "library": "var_list.py",
     "varRefreshCmd": "print(var_dic_list())"
    },
    "r": {
     "delete_cmd_postfix": ") ",
     "delete_cmd_prefix": "rm(",
     "library": "var_list.r",
     "varRefreshCmd": "cat(var_dic_list()) "
    }
   },
   "types_to_exclude": [
    "module",
    "function",
    "builtin_function_or_method",
    "instance",
    "_Feature"
   ],
   "window_display": false
  }
 },
 "nbformat": 4,
 "nbformat_minor": 2
}
